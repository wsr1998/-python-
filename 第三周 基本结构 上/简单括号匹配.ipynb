{
 "cells": [
  {
   "cell_type": "markdown",
   "id": "fe6a70de",
   "metadata": {},
   "source": [
    "- 遍历整个字符串\n",
    "  - 如果是左括号，入栈\n",
    "  - 否则（是右括号），栈是空栈，则不匹配，非空则去除最后一项\n",
    "- 如果最后是空栈且balanced = True，则返回True，否则返回False"
   ]
  },
  {
   "cell_type": "code",
   "execution_count": null,
   "id": "69e7d8de",
   "metadata": {},
   "outputs": [],
   "source": [
    "from pythonds.basic.stack import Stack\n",
    "def parChecker(symbolstring):\n",
    "    s=Stack()\n",
    "    balanced=True\n",
    "    index=0\n",
    "    while index<len(symbolString) and balanced:\n",
    "        symbol=symbolString[index]\n",
    "        if symbol == '(':\n",
    "            s.push(symbol)\n",
    "        else:\n",
    "            if s.isEmpty():\n",
    "                balanced=False\n",
    "            else:\n",
    "                s.pop()\n",
    "        index+=1\n",
    "    if balanced and s.isEmpty():\n",
    "        return True\n",
    "    else:\n",
    "        return False"
   ]
  }
 ],
 "metadata": {
  "language_info": {
   "name": "python"
  },
  "orig_nbformat": 4
 },
 "nbformat": 4,
 "nbformat_minor": 2
}
