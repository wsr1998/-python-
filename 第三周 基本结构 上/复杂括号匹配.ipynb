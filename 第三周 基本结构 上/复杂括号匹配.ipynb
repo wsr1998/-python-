{
 "cells": [
  {
   "cell_type": "markdown",
   "metadata": {},
   "source": [
    "- 遍历整个字符串\n",
    "  - 如果是左括号，入栈\n",
    "  - 如果是右括号。\n",
    "    - 如果栈为空，不匹配\n",
    "    - 如果栈不空，取出栈顶，看是否匹配"
   ]
  },
  {
   "cell_type": "code",
   "execution_count": null,
   "metadata": {},
   "outputs": [],
   "source": [
    "from pythonds.basic.stack import Stack\n",
    "\n",
    "def parChecker(symbolString):\n",
    "    s=Stack()\n",
    "    balanced=True\n",
    "    index=0\n",
    "    while index < len(symbolString) and balanced:\n",
    "        symbol=symbolString[index]\n",
    "        if symbol in '([{':\n",
    "            s.push(symbol)\n",
    "        else:\n",
    "            if s.isEmpty():\n",
    "                balanced=False\n",
    "            else:\n",
    "                top=s.pop()\n",
    "                if not matches(top,symbol):\n",
    "                    balanced=False\n",
    "        index=index+1\n",
    "    if balanced and s.isEmpty():\n",
    "        return True\n",
    "    else:\n",
    "        return False\n",
    "\n",
    "def matches(open,close):\n",
    "    opens='([{'\n",
    "    closers=')]}'\n",
    "    return opens.index(open)==closers.index(close)\n",
    "print(parChecker(input()))"
   ]
  }
 ],
 "metadata": {
  "interpreter": {
   "hash": "6e6700b26abedf7ad30dc657bc4e03fc1ba119d23b728cc4425eac91953055e6"
  },
  "kernelspec": {
   "display_name": "Python 3.7.0 64-bit",
   "language": "python",
   "name": "python3"
  },
  "language_info": {
   "codemirror_mode": {
    "name": "ipython",
    "version": 3
   },
   "file_extension": ".py",
   "mimetype": "text/x-python",
   "name": "python",
   "nbconvert_exporter": "python",
   "pygments_lexer": "ipython3",
   "version": "3.7.0"
  },
  "orig_nbformat": 4
 },
 "nbformat": 4,
 "nbformat_minor": 2
}
