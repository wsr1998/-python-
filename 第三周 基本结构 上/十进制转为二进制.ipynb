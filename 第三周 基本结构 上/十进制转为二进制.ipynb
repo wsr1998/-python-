{
 "cells": [
  {
   "cell_type": "code",
   "execution_count": null,
   "metadata": {},
   "outputs": [],
   "source": [
    "from pythonds.basic.stack import Stack\n",
    "def divideBy2(decNumber):\n",
    "    remstack=Stack()\n",
    "    while decNumber>0:\n",
    "        rem=decNumber%2\n",
    "        remstack.push(rem)\n",
    "        decNumber=decNumber//2\n",
    "    binString=''\n",
    "    while not remstack.isEmpty():\n",
    "        binString=binString+str(remstack.pop())\n",
    "    return binString"
   ]
  }
 ],
 "metadata": {
  "language_info": {
   "name": "python"
  },
  "orig_nbformat": 4
 },
 "nbformat": 4,
 "nbformat_minor": 2
}
