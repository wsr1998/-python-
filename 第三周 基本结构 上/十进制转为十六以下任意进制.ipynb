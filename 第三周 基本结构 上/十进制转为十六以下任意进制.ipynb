{
 "cells": [
  {
   "cell_type": "code",
   "execution_count": 3,
   "metadata": {},
   "outputs": [],
   "source": [
    "from pythonds.basic.stack import Stack\n",
    "def baseConverter(decNumber,base):\n",
    "    digits='0123456789ABCDCEF'\n",
    "    remstack=Stack()\n",
    "    while decNumber>0:\n",
    "        rem=decNumber%base\n",
    "        remstack.push(rem)\n",
    "        decNumber=decNumber//base\n",
    "    newString=''\n",
    "    while not remstack.isEmpty():\n",
    "        newString=newString+digits[remstack.pop()]\n",
    "    return newString"
   ]
  },
  {
   "cell_type": "code",
   "execution_count": 6,
   "metadata": {},
   "outputs": [
    {
     "data": {
      "text/plain": [
       "''"
      ]
     },
     "execution_count": 6,
     "metadata": {},
     "output_type": "execute_result"
    }
   ],
   "source": [
    "baseConverter(0,7)"
   ]
  },
  {
   "cell_type": "code",
   "execution_count": 7,
   "metadata": {},
   "outputs": [
    {
     "name": "stdout",
     "output_type": "stream",
     "text": [
      "cba\n"
     ]
    }
   ],
   "source": [
    "test='abc'\n",
    "print(test[::-1])"
   ]
  },
  {
   "cell_type": "code",
   "execution_count": null,
   "metadata": {},
   "outputs": [],
   "source": []
  }
 ],
 "metadata": {
  "interpreter": {
   "hash": "6e6700b26abedf7ad30dc657bc4e03fc1ba119d23b728cc4425eac91953055e6"
  },
  "kernelspec": {
   "display_name": "Python 3.7.0 64-bit",
   "language": "python",
   "name": "python3"
  },
  "language_info": {
   "codemirror_mode": {
    "name": "ipython",
    "version": 3
   },
   "file_extension": ".py",
   "mimetype": "text/x-python",
   "name": "python",
   "nbconvert_exporter": "python",
   "pygments_lexer": "ipython3",
   "version": "3.7.0"
  },
  "orig_nbformat": 4
 },
 "nbformat": 4,
 "nbformat_minor": 2
}
