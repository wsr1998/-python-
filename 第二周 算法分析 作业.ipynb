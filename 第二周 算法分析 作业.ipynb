{
 "cells": [
  {
   "cell_type": "markdown",
   "metadata": {},
   "source": [
    "# A/B 问题\n",
    "\n",
    "**题目内容：** 给出两个整数，输出他们的商。可以用以下语句实现整数n的输入`n=int(input())`\n",
    "\n",
    "**输入格式：** 两行，每行一个整数\n",
    "\n",
    "**输出格式：** 输出一个数，即他们的商，保持小数点后3位(%.3f)。如果除数为0，则输出：**NA** （两个字母）\n",
    "\n",
    "**输入样例：**\n",
    "\n",
    "1\n",
    "\n",
    "2\n",
    "\n",
    "**输出样例：** 0.500\n",
    "\n",
    "**输入样例2：** \n",
    "\n",
    "2\n",
    "\n",
    "0\n",
    "\n",
    "**输出样例2：** NA"
   ]
  },
  {
   "cell_type": "markdown",
   "metadata": {},
   "source": [
    "# 打印实心矩形\n",
    "\n",
    "**题目内容：** 给出行数和列数，打印一个由*号构成的实心矩形。\n",
    "\n",
    "**输入格式：** 一行，用空格隔开的两个整数m、n\n",
    "\n",
    "**输出格式：** 由*号构成的m行n列的实心矩形\n",
    "\n",
    "**输入样例：** 3 2\n",
    "\n",
    "**输出样例：** \n",
    "\n",
    "**\n",
    "\n",
    "**\n",
    "\n",
    "**"
   ]
  },
  {
   "cell_type": "markdown",
   "metadata": {},
   "source": [
    "# 找到最小的数\n",
    "\n",
    "**题目内容：** 给定若干个整数，找出这些整数中最小的，输出。\n",
    "\n",
    "**输入格式：** 一行，由空格隔开的一系列整数，数量2个以上。\n",
    "\n",
    "**输出格式：** 最小的整数\n",
    "\n",
    "**输入样例：** 1 2 3 4 5 6 7 8 9 0\n",
    "\n",
    "**输出样例：** 0\n",
    "\n",
    "**输入样例：** -1 2 0\n",
    "\n",
    "**输出样例：** -1"
   ]
  }
 ],
 "metadata": {
  "interpreter": {
   "hash": "6e6700b26abedf7ad30dc657bc4e03fc1ba119d23b728cc4425eac91953055e6"
  },
  "kernelspec": {
   "display_name": "Python 3.7.0 64-bit",
   "language": "python",
   "name": "python3"
  },
  "language_info": {
   "codemirror_mode": {
    "name": "ipython",
    "version": 3
   },
   "file_extension": ".py",
   "mimetype": "text/x-python",
   "name": "python",
   "nbconvert_exporter": "python",
   "pygments_lexer": "ipython3",
   "version": "3.7.0"
  },
  "orig_nbformat": 4
 },
 "nbformat": 4,
 "nbformat_minor": 2
}
