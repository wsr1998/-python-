{
 "cells": [
  {
   "cell_type": "markdown",
   "metadata": {},
   "source": [
    "# A/B 问题\n",
    "\n",
    "**题目内容：** 给出两个整数，输出他们的商。可以用以下语句实现整数n的输入`n=int(input())`\n",
    "\n",
    "**输入格式：** 两行，每行一个整数\n",
    "\n",
    "**输出格式：** 输出一个数，即他们的商，保持小数点后3位(%.3f)。如果除数为0，则输出：**NA** （两个字母）\n",
    "\n",
    "**输入样例：**\n",
    "\n",
    "1\n",
    "\n",
    "2\n",
    "\n",
    "**输出样例：** 0.500\n",
    "\n",
    "**输入样例2：** \n",
    "\n",
    "2\n",
    "\n",
    "0\n",
    "\n",
    "**输出样例2：** NA"
   ]
  },
  {
   "cell_type": "code",
   "execution_count": null,
   "metadata": {},
   "outputs": [],
   "source": [
    "a=int(input())\n",
    "b=int(input())\n",
    "if b!=0:\n",
    "    print('{:.3f}'.format(a/b))\n",
    "else:\n",
    "    print('NA')"
   ]
  },
  {
   "cell_type": "markdown",
   "metadata": {},
   "source": [
    "# 打印实心矩形\n",
    "\n",
    "**题目内容：** 给出行数和列数，打印一个由*号构成的实心矩形。\n",
    "\n",
    "**输入格式：** 一行，用空格隔开的两个整数m、n\n",
    "\n",
    "**输出格式：** 由*号构成的m行n列的实心矩形\n",
    "\n",
    "**输入样例：** 3 2\n",
    "\n",
    "**输出样例：** \n",
    "\n",
    "**\n",
    "\n",
    "**\n",
    "\n",
    "**"
   ]
  },
  {
   "cell_type": "code",
   "execution_count": 18,
   "metadata": {},
   "outputs": [
    {
     "name": "stdout",
     "output_type": "stream",
     "text": [
      "**\n",
      "**\n",
      "**\n"
     ]
    }
   ],
   "source": [
    "mn_ls=input().split() \n",
    "# 非常奇怪的是如果split()里面加上sep='', sep=' ', sep='\\n'都无法通过\n",
    "# 所以就直接split()\n",
    "m,n=eval(mn_ls[0]), eval(mn_ls[1])\n",
    "for i in range(m):\n",
    "    print('*'*n)"
   ]
  },
  {
   "cell_type": "code",
   "execution_count": null,
   "metadata": {},
   "outputs": [],
   "source": [
    "# 之前写的一个版本，效率比较低\n",
    "mnlist=input().split()\n",
    "m, n=int(mnlist[0]), int(mnlist[1])\n",
    "for i in range(0,m):\n",
    "    temp=0\n",
    "    starlist=[]\n",
    "    while temp<n:\n",
    "        starlist.append('*')\n",
    "        temp+=1\n",
    "    print(''.join(starlist))"
   ]
  },
  {
   "cell_type": "markdown",
   "metadata": {},
   "source": [
    "# 找到最小的数\n",
    "\n",
    "**题目内容：** 给定若干个整数，找出这些整数中最小的，输出。\n",
    "\n",
    "**输入格式：** 一行，由空格隔开的一系列整数，数量2个以上。\n",
    "\n",
    "**输出格式：** 最小的整数\n",
    "\n",
    "**输入样例：** 1 2 3 4 5 6 7 8 9 0\n",
    "\n",
    "**输出样例：** 0\n",
    "\n",
    "**输入样例：** -1 2 0\n",
    "\n",
    "**输出样例：** -1"
   ]
  },
  {
   "cell_type": "code",
   "execution_count": null,
   "metadata": {},
   "outputs": [],
   "source": [
    "numlist=list(map(int,input().split()))\n",
    "# split()之后得到一个包含若干个字符型整数的列表\n",
    "# 用map函数便利整个列表，使得列表里的字符变成整型\n",
    "# 用list()将map的返回值变成列表\n",
    "print(min(numlist))"
   ]
  },
  {
   "cell_type": "markdown",
   "metadata": {},
   "source": [
    "# 测验"
   ]
  },
  {
   "cell_type": "markdown",
   "metadata": {},
   "source": [
    "---\n",
    "- **1** `单选` (2分)‍ 判断下列代码段，关于的大O级别：\n",
    "  ```python\n",
    "  test = 0\n",
    "  for i in range(n):\n",
    "    for j in range(n):\n",
    "        for k in range(i):\n",
    "            test = test + i * j\n",
    "  ```\n",
    "  - **A**. O(n^2)\n",
    "  - **B**. O(n)\n",
    "  - **C**. O(n*log(n))\n",
    "  - **D**. O(n^3)\n",
    "---\n",
    "\n",
    "- **2** `单选`  (2分) 判断下列代码段的大O级别：\n",
    "  ```python\n",
    "  test = 0\n",
    "  for i in range(n):\n",
    "      test = test + 1\n",
    "  for j in range(n):\n",
    "      test = test - 1\n",
    "  for k in range(n):\n",
    "      test = test * 1\n",
    "  ```\n",
    "  - **A**. O(n)\n",
    "  - **B**. O(n*log(n))\n",
    "  - **C**. O(n^3)\n",
    "  - **D**. O(n^2)\n",
    "‌\n",
    "---\n",
    "- **3** `单选`  (2分) 判断下列代码段的大O级别：\n",
    "  ```python\n",
    "  ​for i in range(n):\n",
    "      for j in range(i):\n",
    "          k = 2 + 2\n",
    "  ```\n",
    "  - **A**. O(n^2)\n",
    "  - **B**. O(n)\n",
    "  - **C**. O(n^3)\n",
    "  - **D**. O(1)\n",
    "\n",
    "---\n",
    "- **4** `单选`  (2分) 判断下列代码段的大O级别：\n",
    "  ```python\n",
    "  def function(n):\n",
    "    return 2\n",
    "  ```\n",
    "  - **A**. O(n)\n",
    "  - **B**. O(1)\n",
    "  - **C**. O(n^2)\n",
    "  - **D**. O(n^3)\n",
    "\n",
    "---\n",
    "- **5** `单选`  (2分) 判断下列代码段的大O级别：\n",
    "  ```python\n",
    "  def pow(x, n):\n",
    "   if n==0:\n",
    "       return 1\n",
    "   elif n==1:\n",
    "       return x\n",
    "   elif n%2==0:\n",
    "       return pow(x*x, n//2)\n",
    "   else:\n",
    "       return pow(x*x, n//2)*x\n",
    "  ```\n",
    "  - **A**. O(nlog(n))\n",
    "  - **B**. O(n)\n",
    "  - **C**. O(log(n))\n",
    "  - **D**. O(1)\n",
    "  \n",
    "---\n",
    "- **6** `多选` (3分) 下面的列表操作中哪些是O(1)的？(假设列表alist足够长，不导致任何报错)\n",
    "  - **A**. `alist[10:16]`\n",
    "  - **B**. `alist.pop()`\n",
    "  - **C**. `alist.sort()`\n",
    "  - **D**. `alist.append(10)`\n",
    "\n",
    "---\n",
    "- **7** `多选` (3分) 下面的字典操作中哪些是O(1)的？\n",
    "  - **A** . `'' in my_dict`\n",
    "  - **B** . `my_dict[''] += 1`\n",
    "  - **C** . `my_dict[''] == 10`\n",
    "  - **D** . `del my_dict['']`\n",
    "  \n",
    "---\n",
    "\n",
    "- **8** `多选` (3分) 令n为问题规模，其中解决本问题的算法称为A,B,C，他们需要的总运算次数分别是\n",
    "  \n",
    "      - A: 96+108n+24n^2+12n^3\n",
    "      - B: 16+3n^48\n",
    "      - C: 10080+168n+7n^2*log(n)\n",
    "  \n",
    "  三个算法的时间复杂度的大O级别中，以下表述正确的有：\n",
    "\n",
    "  - **A** . A算法比B算法的时间复杂度更大\n",
    "  - **B** . C算法的时间复杂度最小\n",
    "  - **C** . A算法和B算法的时间复杂度相同\n",
    "  - **D** . B算法比A算法的时间复杂度更大"
   ]
  },
  {
   "cell_type": "markdown",
   "metadata": {},
   "source": []
  }
 ],
 "metadata": {
  "interpreter": {
   "hash": "6e6700b26abedf7ad30dc657bc4e03fc1ba119d23b728cc4425eac91953055e6"
  },
  "kernelspec": {
   "display_name": "Python 3.7.0 64-bit",
   "language": "python",
   "name": "python3"
  },
  "language_info": {
   "codemirror_mode": {
    "name": "ipython",
    "version": 3
   },
   "file_extension": ".py",
   "mimetype": "text/x-python",
   "name": "python",
   "nbconvert_exporter": "python",
   "pygments_lexer": "ipython3",
   "version": "3.7.0"
  },
  "orig_nbformat": 4
 },
 "nbformat": 4,
 "nbformat_minor": 2
}
