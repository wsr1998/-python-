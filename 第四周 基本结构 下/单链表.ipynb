{
 "cells": [
  {
   "cell_type": "markdown",
   "metadata": {},
   "source": [
    "# 单链表"
   ]
  },
  {
   "cell_type": "code",
   "execution_count": null,
   "metadata": {},
   "outputs": [],
   "source": [
    "class Node:\n",
    "    def __init__(self,initdata):\n",
    "        self.data=initdata\n",
    "        self.next=None\n",
    "    def getData(self):\n",
    "        return self.data\n",
    "    def getNext(self):\n",
    "        return self.next\n",
    "    def setData(self,newdata):\n",
    "        self.data=newdata\n",
    "    def setNext(self,newnext):\n",
    "        self.next=newnext\n",
    "class UnorderedList:\n",
    "    def __init__(self):\n",
    "        self.head=None\n",
    "    def add(self,item):\n",
    "        temp=Node(item)\n",
    "        temp.setNext(self.head)\n",
    "        self.head=temp\n",
    "    def size(self):\n",
    "        current=self.head\n",
    "        count=0\n",
    "        while current!=None:\n",
    "            count=count+1\n",
    "            current=current.getNext()\n",
    "        return count\n",
    "    def search(self,item): # 检查链表中是不是有某一个item\n",
    "        current=self.head\n",
    "        found=False\n",
    "        while current!=None and not found:\n",
    "            if current.getData()==item:\n",
    "                found=True\n",
    "            else:\n",
    "                current=current.getNext()\n",
    "        return found\n",
    "    def remove(self,item):\n",
    "        current=self.head # 当前节点\n",
    "        previous=None # 上一个节点\n",
    "        found=False\n",
    "        while not found:\n",
    "            if current.getData()==item:\n",
    "                found=True\n",
    "            else:\n",
    "                previous=current\n",
    "                current=current.getNext()\n",
    "        if previous==None:\n",
    "            self.head=current.getNext()\n",
    "        else:\n",
    "            previous.setNext(current.getNext())"
   ]
  }
 ],
 "metadata": {
  "interpreter": {
   "hash": "6e6700b26abedf7ad30dc657bc4e03fc1ba119d23b728cc4425eac91953055e6"
  },
  "kernelspec": {
   "display_name": "Python 3.7.0 64-bit",
   "language": "python",
   "name": "python3"
  },
  "language_info": {
   "name": "python",
   "version": "3.7.0"
  },
  "orig_nbformat": 4
 },
 "nbformat": 4,
 "nbformat_minor": 2
}
