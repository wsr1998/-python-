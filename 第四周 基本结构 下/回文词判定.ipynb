{
 "cells": [
  {
   "cell_type": "markdown",
   "metadata": {},
   "source": [
    "# 回文词判定\n",
    "- 正读和反读都是一样的\n",
    "- 先将需要判定的词从队尾加入deque\n",
    "- 再从两端同时移除字符判定是否相同，直到deque中剩下0个或1个字符"
   ]
  },
  {
   "cell_type": "code",
   "execution_count": 3,
   "metadata": {},
   "outputs": [
    {
     "name": "stdout",
     "output_type": "stream",
     "text": [
      "False\n",
      "True\n"
     ]
    }
   ],
   "source": [
    "from pythonds.basic.deque import Deque\n",
    "def palchecker(aString):\n",
    "    chardeque=Deque()\n",
    "    for ch in aString:\n",
    "        chardeque.addRear(ch)\n",
    "    stillEqual=True\n",
    "    while chardeque.size()>1 and stillEqual:\n",
    "        first=chardeque.removeFront()\n",
    "        last=chardeque.removeRear()\n",
    "        if first!=last:\n",
    "            stillEqual=False\n",
    "    return stillEqual\n",
    "print(palchecker('lsdkjfskf'))\n",
    "print(palchecker('radar'))"
   ]
  }
 ],
 "metadata": {
  "interpreter": {
   "hash": "6e6700b26abedf7ad30dc657bc4e03fc1ba119d23b728cc4425eac91953055e6"
  },
  "kernelspec": {
   "display_name": "Python 3.7.0 64-bit",
   "language": "python",
   "name": "python3"
  },
  "language_info": {
   "codemirror_mode": {
    "name": "ipython",
    "version": 3
   },
   "file_extension": ".py",
   "mimetype": "text/x-python",
   "name": "python",
   "nbconvert_exporter": "python",
   "pygments_lexer": "ipython3",
   "version": "3.7.0"
  },
  "orig_nbformat": 4
 },
 "nbformat": 4,
 "nbformat_minor": 2
}
