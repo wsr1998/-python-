{
 "cells": [
  {
   "cell_type": "code",
   "execution_count": 2,
   "metadata": {},
   "outputs": [
    {
     "name": "stdout",
     "output_type": "stream",
     "text": [
      "Susan\n"
     ]
    }
   ],
   "source": [
    "from pythonds.basic.queue import Queue\n",
    "def hotPotato(namelist,num):\n",
    "    simqueue=Queue()\n",
    "    for name in namelist:\n",
    "        simqueue.enqueue(name)\n",
    "    while simqueue.size()>1:\n",
    "        for i in range(num):\n",
    "            simqueue.enqueue(simqueue.dequeue())\n",
    "        simqueue.dequeue()\n",
    "    return simqueue.dequeue()\n",
    "print(hotPotato(['Bill','David','Susan','Jane','Kent','Brad'],7))"
   ]
  },
  {
   "cell_type": "code",
   "execution_count": null,
   "metadata": {},
   "outputs": [],
   "source": []
  }
 ],
 "metadata": {
  "interpreter": {
   "hash": "6e6700b26abedf7ad30dc657bc4e03fc1ba119d23b728cc4425eac91953055e6"
  },
  "kernelspec": {
   "display_name": "Python 3.7.0 64-bit",
   "language": "python",
   "name": "python3"
  },
  "language_info": {
   "codemirror_mode": {
    "name": "ipython",
    "version": 3
   },
   "file_extension": ".py",
   "mimetype": "text/x-python",
   "name": "python",
   "nbconvert_exporter": "python",
   "pygments_lexer": "ipython3",
   "version": "3.7.0"
  },
  "orig_nbformat": 4
 },
 "nbformat": 4,
 "nbformat_minor": 2
}
