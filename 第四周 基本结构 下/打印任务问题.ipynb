{
 "cells": [
  {
   "cell_type": "markdown",
   "metadata": {},
   "source": [
    "# 打印任务\n",
    "- 一个具体的实例配置如下：\n",
    "  - 一个实验室，在任意的一个小时内，大约有10名学生在场\n",
    "  - 在一小时中，每人会发起2次左右打印，每次1~20页\n",
    "- 打印机的性能是：\n",
    "  - 以草稿模式打印的话，每分钟10页\n",
    "  - 以正常模式打印的话，打印质量好，但速度下降为每分钟5页\n",
    "- 问题：怎么设定打印机的模式，让大家都<font color=red>不会等太久</font>的前提下，<font color=red>尽量提高打印质量</font>?\n",
    "  - 典型的决策支持问题，但无法通过规则直接计算。可以用以一段程序来<font color=red>模拟</font>这种打印任务场景，然后对程序运行结果进行<font color=red>分析</font>，以支持对打印机模式设定的<font color=red>决策</font>。\n",
    "- 对问题建模\n",
    "  - 对问题进行抽象，确定相关的对象过程。抛弃那些对问题实质没有关系的学生性别、年龄、、打印机型号、打印内容、纸张大小等等众多细节\n",
    "  - **对象**：打印任务、打印队列、打印机\n",
    "    - 打印任务的属性：提交时间、打印页数\n",
    "    - 打印队列的属性：具有FIFO性质的打印任务队列\n",
    "    - 打印机的属性：打印速度、是否忙\n",
    "  - 过程：生成和提交打印任务\n",
    "    - 确定<font color=red>生成概率</font>：实例为每小时会有10个学生提交的20个作业，这样，概率是每180秒会有1个作业生成并提交，概率为每秒1/180.\n",
    "    - 确定<font color=red>打印页数</font>：实例时1~20页，那么就是1~20页之间概率相同\n",
    "  - 过程：实施打印\n",
    "    - 当前的打印作业：正在打印的作业\n",
    "    - 打印结束倒计时：新作业开始打印时开始倒计时，回0表示打印完毕，可以处理下一个作业\n",
    "  - 模拟时间：\n",
    "    - 统一的时间框架：以最小单位（秒）均匀流逝的时间，设定结束时间\n",
    "    - 同步所有过程：在<font color=red>一个时间单位</font>里，对<font color=red>生成打印任务</font>和<font color=red>实施打印</font>两个过程各处理一次"
   ]
  },
  {
   "cell_type": "code",
   "execution_count": 12,
   "metadata": {},
   "outputs": [],
   "source": [
    "from pythonds.basic.queue import Queue\n",
    "import random\n",
    "\n",
    "class Printer:\n",
    "    def __init__(self,ppm):\n",
    "        self.pagerate=ppm # 打印速度\n",
    "        self.currentTask=None # 打印任务\n",
    "        self.timeRemaining=0 # 任务倒计时\n",
    "    def tick(self):\n",
    "        if self.currentTask!=None:\n",
    "            self.timeRemaining=self.timeRemaining-1\n",
    "            if self.timeRemaining<=0:\n",
    "                self.currentTask=None\n",
    "    def busy(self):\n",
    "        if self.currentTask!=None:\n",
    "            return True\n",
    "        else:\n",
    "            return False\n",
    "    def startNext(self,newtask):\n",
    "        self.currentTask=newtask # 这是Task类\n",
    "        self.timeRemaining=newtask.getPages()*60/self.pagerate\n",
    "\n",
    "class Task:\n",
    "    def __init__(self,time):\n",
    "        self.timestamp=time # 生成时间戳\n",
    "        self.pages=random.randrange(1,21) # 打印页数\n",
    "    def getStamp(self):\n",
    "        return self.timestamp\n",
    "    def getPages(self):\n",
    "        return self.pages\n",
    "    def waitTime(self,currenttime): # 等待时间\n",
    "        return currenttime-self.timestamp \n",
    "\n",
    "def newPrintTask():\n",
    "    num=random.randrange(1,181) # 每秒有1/180的概率生成作业\n",
    "    if num==180:\n",
    "        return True\n",
    "    else:\n",
    "        return False\n",
    "\n",
    "def simulation(numSeconds,pagesPerMinute):\n",
    "    labprinter=Printer(pagesPerMinute)\n",
    "    printQueue=Queue()\n",
    "    waitingtimes=[]\n",
    "    for currentSecond in range(numSeconds):\n",
    "        if newPrintTask():\n",
    "            task=Task(currentSecond)\n",
    "            printQueue.enqueue(task)\n",
    "        if (not labprinter.busy()) and (not printQueue.isEmpty()):\n",
    "            nexttask=printQueue.dequeue() # 出列的是task类\n",
    "            waitingtimes.append(nexttask.waitTime(currentSecond))\n",
    "            labprinter.startNext(nexttask)\n",
    "        # 如果打印机忙\n",
    "        labprinter.tick()\n",
    "\n",
    "    averageWait=sum(waitingtimes)/len(waitingtimes)\n",
    "    print('Average Wait %6.2f secs %3d tasks remaining.'%(averageWait,printQueue.size()))"
   ]
  },
  {
   "cell_type": "code",
   "execution_count": 17,
   "metadata": {},
   "outputs": [
    {
     "name": "stdout",
     "output_type": "stream",
     "text": [
      "Average Wait 347.08 secs   3 tasks remaining.\n",
      "Average Wait  12.67 secs   0 tasks remaining.\n",
      "Average Wait 134.94 secs   0 tasks remaining.\n",
      "Average Wait  52.61 secs   0 tasks remaining.\n",
      "Average Wait  64.07 secs   0 tasks remaining.\n",
      "Average Wait 146.69 secs   4 tasks remaining.\n",
      "Average Wait  11.38 secs   0 tasks remaining.\n",
      "Average Wait 122.26 secs   4 tasks remaining.\n",
      "Average Wait 174.53 secs   9 tasks remaining.\n",
      "Average Wait 227.92 secs   2 tasks remaining.\n"
     ]
    }
   ],
   "source": [
    "for i in range(10):\n",
    "    simulation(3600,5)"
   ]
  },
  {
   "cell_type": "code",
   "execution_count": 15,
   "metadata": {},
   "outputs": [
    {
     "name": "stdout",
     "output_type": "stream",
     "text": [
      "Average Wait   2.38 secs   0 tasks remaining.\n",
      "Average Wait  27.10 secs   1 tasks remaining.\n",
      "Average Wait  12.06 secs   0 tasks remaining.\n",
      "Average Wait  19.11 secs   0 tasks remaining.\n",
      "Average Wait   4.39 secs   0 tasks remaining.\n",
      "Average Wait  17.31 secs   0 tasks remaining.\n",
      "Average Wait  11.50 secs   0 tasks remaining.\n",
      "Average Wait  27.95 secs   0 tasks remaining.\n",
      "Average Wait  18.00 secs   0 tasks remaining.\n",
      "Average Wait  38.05 secs   0 tasks remaining.\n"
     ]
    }
   ],
   "source": [
    "for i in range(10):\n",
    "    simulation(3600,10)"
   ]
  },
  {
   "cell_type": "code",
   "execution_count": null,
   "metadata": {},
   "outputs": [],
   "source": []
  }
 ],
 "metadata": {
  "interpreter": {
   "hash": "6e6700b26abedf7ad30dc657bc4e03fc1ba119d23b728cc4425eac91953055e6"
  },
  "kernelspec": {
   "display_name": "Python 3.7.0 64-bit",
   "language": "python",
   "name": "python3"
  },
  "language_info": {
   "codemirror_mode": {
    "name": "ipython",
    "version": 3
   },
   "file_extension": ".py",
   "mimetype": "text/x-python",
   "name": "python",
   "nbconvert_exporter": "python",
   "pygments_lexer": "ipython3",
   "version": "3.7.0"
  },
  "orig_nbformat": 4
 },
 "nbformat": 4,
 "nbformat_minor": 2
}
