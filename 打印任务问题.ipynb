{
 "cells": [
  {
   "cell_type": "code",
   "execution_count": 3,
   "metadata": {},
   "outputs": [],
   "source": [
    "from pythonds.basic.queue import Queue\n",
    "import random\n",
    "\n",
    "class Printer:\n",
    "    def __init__(self,ppm):\n",
    "        self.pagerate=ppm # 打印速度\n",
    "        self.currentTask=None # 打印任务\n",
    "        self.timeRemaining=0 # 任务倒计时\n",
    "    def tick(self):\n",
    "        if self.currentTask!=None:\n",
    "            self.timeRemaining=self.timeRemaining-1\n",
    "            if self.timeRemaining<=0:\n",
    "                self.currentTask=None\n",
    "    def busy(self):\n",
    "        if self.currentTask!=None:\n",
    "            return True\n",
    "        else:\n",
    "            return False\n",
    "    def startNext(self,newtask):\n",
    "        self.currentTask=newtask\n",
    "\n",
    "class Task:\n",
    "    def __init__(self,time):\n",
    "        self.timestamp=time # 生成时间戳\n",
    "        self.pages=random.randrange(1,21) # 打印页数\n",
    "    def getStamp(self):\n",
    "        return self.timestamp\n",
    "    def getPages(self):\n",
    "        return self.pages\n",
    "    def waitTime(self,currenttime): # 等待时间\n",
    "        return currenttime-self.timestamp \n",
    "\n",
    "def newPrintTask():\n",
    "    num=random.randrange(1,181) # 每秒有1/180的概率生成作业\n",
    "    if num==180:\n",
    "        return True\n",
    "    else:\n",
    "        return False\n",
    "\n",
    "def simulation(numSeconds,pagesPerMinute):\n",
    "    labprinter=Printer(pagesPerMinute)\n",
    "    printQueue=Queue()\n",
    "    waitingtimes=[]\n",
    "    for currentSecond in range(numSeconds):\n",
    "        if newPrintTask():\n",
    "            task=Task(currentSecond)\n",
    "            printQueue.enqueue(task)\n",
    "        if (not labprinter.busy()) and (not printQueue.isEmpty()):\n",
    "            nexttask=printQueue.dequeue()\n",
    "            waitingtimes.append(nexttask.waitTime(currentSecond))\n",
    "            labprinter.startNext(nexttask)\n",
    "        labprinter.tick()\n",
    "\n",
    "    averageWait=sum(waitingtimes)/len(waitingtimes)\n",
    "    print('Average Wait %6.2f secs %3d tasks remaining.'%(averageWait,printQueue.size()))"
   ]
  },
  {
   "cell_type": "code",
   "execution_count": 7,
   "metadata": {},
   "outputs": [
    {
     "name": "stdout",
     "output_type": "stream",
     "text": [
      "Average Wait   0.00 secs   0 tasks remaining.\n",
      "Average Wait   0.00 secs   0 tasks remaining.\n",
      "Average Wait   0.00 secs   0 tasks remaining.\n",
      "Average Wait   0.00 secs   0 tasks remaining.\n",
      "Average Wait   0.00 secs   0 tasks remaining.\n",
      "Average Wait   0.00 secs   0 tasks remaining.\n",
      "Average Wait   0.00 secs   0 tasks remaining.\n",
      "Average Wait   0.00 secs   0 tasks remaining.\n",
      "Average Wait   0.00 secs   0 tasks remaining.\n",
      "Average Wait   0.00 secs   0 tasks remaining.\n"
     ]
    }
   ],
   "source": [
    "for i in range(10):\n",
    "    simulation(3600,5)"
   ]
  },
  {
   "cell_type": "code",
   "execution_count": 8,
   "metadata": {},
   "outputs": [
    {
     "name": "stdout",
     "output_type": "stream",
     "text": [
      "Average Wait   0.00 secs   0 tasks remaining.\n",
      "Average Wait   0.00 secs   0 tasks remaining.\n",
      "Average Wait   0.00 secs   0 tasks remaining.\n",
      "Average Wait   0.00 secs   0 tasks remaining.\n",
      "Average Wait   0.00 secs   0 tasks remaining.\n",
      "Average Wait   0.00 secs   0 tasks remaining.\n",
      "Average Wait   0.00 secs   0 tasks remaining.\n",
      "Average Wait   0.00 secs   0 tasks remaining.\n",
      "Average Wait   0.00 secs   0 tasks remaining.\n",
      "Average Wait   0.00 secs   0 tasks remaining.\n"
     ]
    }
   ],
   "source": [
    "for i in range(10):\n",
    "    simulation(3600,10)"
   ]
  },
  {
   "cell_type": "code",
   "execution_count": null,
   "metadata": {},
   "outputs": [],
   "source": []
  }
 ],
 "metadata": {
  "interpreter": {
   "hash": "6e6700b26abedf7ad30dc657bc4e03fc1ba119d23b728cc4425eac91953055e6"
  },
  "kernelspec": {
   "display_name": "Python 3.7.0 64-bit",
   "language": "python",
   "name": "python3"
  },
  "language_info": {
   "codemirror_mode": {
    "name": "ipython",
    "version": 3
   },
   "file_extension": ".py",
   "mimetype": "text/x-python",
   "name": "python",
   "nbconvert_exporter": "python",
   "pygments_lexer": "ipython3",
   "version": "3.7.0"
  },
  "orig_nbformat": 4
 },
 "nbformat": 4,
 "nbformat_minor": 2
}
